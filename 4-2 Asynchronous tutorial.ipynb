{
 "cells": [
  {
   "cell_type": "markdown",
   "metadata": {},
   "source": [
    "## 异步教程\n",
    "### 一个规范的方式在python中"
   ]
  },
  {
   "cell_type": "markdown",
   "metadata": {},
   "source": [
    "#### Firstly, let's see a runing time in a normal way"
   ]
  },
  {
   "cell_type": "code",
   "execution_count": 1,
   "metadata": {},
   "outputs": [
    {
     "name": "stdout",
     "output_type": "stream",
     "text": [
      "Start job  1\n",
      "job  1 takes  1 s\n",
      "Start job  2\n",
      "job  2 takes  2 s\n",
      "NO async total time :  3.004523515701294\n"
     ]
    }
   ],
   "source": [
    "import time\n",
    "\n",
    "def job(t):\n",
    "    print('Start job ', t)\n",
    "    time.sleep(t)     # wait for \"t\" seconds\n",
    "    print('job ', t, 'takes ', t, 's')\n",
    "    \n",
    "def main():\n",
    "    [job(t) for t in range(1,3)]\n",
    "    \n",
    "t1 = time.time()\n",
    "main()\n",
    "print(\"NO async total time : \", time.time() - t1)"
   ]
  },
  {
   "cell_type": "code",
   "execution_count": 4,
   "metadata": {},
   "outputs": [
    {
     "name": "stdout",
     "output_type": "stream",
     "text": [
      "Start job  1\n",
      "Start job  2\n",
      "Job  1  takes  1  s\n",
      "Job  2  takes  2  s\n",
      "Async total time:  2.0038275718688965\n"
     ]
    }
   ],
   "source": [
    "import asyncio\n",
    "\n",
    "async def job(t):\n",
    "    print('Start job ', t)\n",
    "    await asyncio.sleep(t)  # wait for 't'seconds, it will look for another job while await\n",
    "    print('Job ', t, ' takes ',t, ' s')\n",
    "    \n",
    "async def main(loop):\n",
    "    tasks = [loop.create_task(job(t)) for t in range(1,3)]  # just create, not run job\n",
    "    await asyncio.wait(tasks)       # run jobs and wait all tasks done\n",
    "\n",
    "t1 = time.time()\n",
    "loop = asyncio.get_event_loop()\n",
    "loop.run_until_complete(main(loop))\n",
    "# loop.close()   # Ipython notebook gives error if close loop\n",
    "print(\"Async total time: \", time.time()- t1)"
   ]
  },
  {
   "cell_type": "markdown",
   "metadata": {},
   "source": [
    "### 爬取网页的一般方法\n",
    "### we can use  this machanism(机理) in requesting for a website. Await for download a page and switch to do another job."
   ]
  },
  {
   "cell_type": "code",
   "execution_count": 5,
   "metadata": {},
   "outputs": [
    {
     "name": "stdout",
     "output_type": "stream",
     "text": [
      "https://morvanzhou.github.io/\n",
      "https://morvanzhou.github.io/\n",
      "Normal total time: 0.303175687789917\n"
     ]
    }
   ],
   "source": [
    "import requests\n",
    "URL = 'https://morvanzhou.github.io'\n",
    "\n",
    "def normal():\n",
    "    for i in range(2):\n",
    "        r = requests.get(URL)\n",
    "        url = r.url\n",
    "        print(url)\n",
    "        \n",
    "t1 = time.time()\n",
    "normal()\n",
    "print('Normal total time:',time.time()-t1)"
   ]
  },
  {
   "cell_type": "markdown",
   "metadata": {},
   "source": [
    "## 使用aiohttp的包 来实现上面的异步处理"
   ]
  },
  {
   "cell_type": "code",
   "execution_count": 17,
   "metadata": {},
   "outputs": [
    {
     "name": "stdout",
     "output_type": "stream",
     "text": [
      "['https://morvanzhou.github.io', 'https://morvanzhou.github.io']\n",
      "Async total time: 0.08728599548339844\n"
     ]
    }
   ],
   "source": [
    "import aiohttp\n",
    "\n",
    "async def job(session):\n",
    "    response = await session.get(URL)\n",
    "    return str(response.url)\n",
    "\n",
    "async def main(loop):\n",
    "    async with aiohttp.ClientSession() as session:\n",
    "        tasks = [loop.create_task(job(session)) for _ in range(2)]\n",
    "        finished, unfinished = await asyncio.wait(tasks)\n",
    "        all_results = [r.result() for r in finished]  # get return from job\n",
    "        print(all_results)\n",
    "    \n",
    "t1 = time.time()\n",
    "loop = asyncio.get_event_loop()\n",
    "loop.run_until_complete(main(loop))\n",
    "# loop.close()\n",
    "print(\"Async total time:\", time.time()- t1)"
   ]
  },
  {
   "cell_type": "markdown",
   "metadata": {},
   "source": [
    "### 异步单线程程与 \n",
    "#### 1. 异步加载"
   ]
  },
  {
   "cell_type": "code",
   "execution_count": 19,
   "metadata": {},
   "outputs": [
    {
     "name": "stdout",
     "output_type": "stream",
     "text": [
      "\n",
      "Async Crawling...\n",
      "\n",
      "Distributed Parsing...\n",
      "\n",
      "Analysing...\n",
      "\n",
      "Async Crawling...\n",
      "\n",
      "Distributed Parsing...\n",
      "\n",
      "Analysing...\n",
      "\n",
      "Async Crawling...\n",
      "\n",
      "Distributed Parsing...\n",
      "\n",
      "Analysing...\n",
      "Async total time:  14.745429515838623\n"
     ]
    }
   ],
   "source": [
    "import aiohttp\n",
    "import asyncio\n",
    "import time\n",
    "from bs4 import BeautifulSoup\n",
    "from urllib.request import urljoin\n",
    "import re\n",
    "import multiprocessing as mp\n",
    "\n",
    "base_url = \"https://morvanzhou.github.io/\"\n",
    "# DON'T OVER CRAWL THE WEBSITE OR YOU MAY NEVER VISIT AGAIN\n",
    "if base_url != \"https://morvanzhou.github.io/\":\n",
    "    restricted_crawl = True\n",
    "else:\n",
    "    restricted_crawl = False\n",
    "        \n",
    "        \n",
    "seen = set()\n",
    "unseen = set([base_url])\n",
    "\n",
    "def parse(html):\n",
    "    soup = BeautifulSoup(html, 'lxml')\n",
    "    urls = soup.find_all('a', {\"href\": re.compile('^/.+?/$')})\n",
    "    title = soup.find('h1').get_text().strip()\n",
    "    page_urls = set([urljoin(base_url, url['href']) for url in urls])\n",
    "    url = soup.find('meta', {'property': \"og:url\"})['content']\n",
    "    return title, page_urls, url\n",
    "\n",
    "async def crawl(url, session):\n",
    "    r = await session.get(url)\n",
    "    html = await r.text()\n",
    "    await asyncio.sleep(0.1)        # slightly delay for downloading\n",
    "    return html\n",
    "\n",
    "\n",
    "async def main(loop):\n",
    "    pool = mp.Pool(8)               # slightly affected\n",
    "    async with aiohttp.ClientSession() as session:\n",
    "        count = 1\n",
    "        while len(unseen) != 0:\n",
    "            print('\\nAsync Crawling...')\n",
    "            tasks = [loop.create_task(crawl(url, session)) for url in unseen]\n",
    "            finished, unfinished = await asyncio.wait(tasks)\n",
    "            htmls = [f.result() for f in finished]\n",
    "            \n",
    "            print('\\nDistributed Parsing...')\n",
    "            parse_jobs = [pool.apply_async(parse, args=(html,)) for html in htmls]\n",
    "            results = [j.get() for j in parse_jobs]\n",
    "            \n",
    "            print('\\nAnalysing...')\n",
    "            seen.update(unseen)\n",
    "            unseen.clear()\n",
    "            for title, page_urls, url in results:\n",
    "                # print(count, title, url)\n",
    "                unseen.update(page_urls - seen)\n",
    "                count += 1\n",
    "\n",
    "if __name__ == \"__main__\":\n",
    "    t1 = time.time()\n",
    "    loop = asyncio.get_event_loop()\n",
    "    loop.run_until_complete(main(loop))\n",
    "    # loop.close()\n",
    "    print(\"Async total time: \", time.time() - t1)"
   ]
  },
  {
   "cell_type": "markdown",
   "metadata": {},
   "source": [
    "#### 2. 多进程加载"
   ]
  },
  {
   "cell_type": "code",
   "execution_count": 21,
   "metadata": {},
   "outputs": [
    {
     "name": "stdout",
     "output_type": "stream",
     "text": [
      "\n",
      "Distributed Crawling...\n",
      "\n",
      "Distributed Parsing...\n",
      "\n",
      "Analysing...\n",
      "\n",
      "Distributed Crawling...\n",
      "\n",
      "Distributed Parsing...\n",
      "\n",
      "Analysing...\n",
      "\n",
      "Distributed Crawling...\n",
      "\n",
      "Distributed Parsing...\n",
      "\n",
      "Analysing...\n",
      "Total time: 28.7 s\n"
     ]
    }
   ],
   "source": [
    "from urllib.request import urlopen, urljoin\n",
    "from bs4 import BeautifulSoup\n",
    "import multiprocessing as mp\n",
    "import re\n",
    "import time\n",
    "\n",
    "def crawl(url):\n",
    "    response = urlopen(url)\n",
    "    time.sleep(0.1)             # slightly delay for downloading\n",
    "    return response.read().decode()\n",
    "\n",
    "def parse(html):\n",
    "    soup = BeautifulSoup(html, 'lxml')\n",
    "    urls = soup.find_all('a', {\"href\": re.compile('^/.+?/$')})\n",
    "    title = soup.find('h1').get_text().strip()\n",
    "    page_urls = set([urljoin(base_url, url['href']) for url in urls])\n",
    "    url = soup.find('meta', {'property': \"og:url\"})['content']\n",
    "    return title, page_urls, url\n",
    "\n",
    "if __name__ == '__main__':\n",
    "    base_url = 'https://morvanzhou.github.io/'\n",
    "    # DON'T OVER CRAWL THE WEBSITE OR YOU MAY NEVER VISIT AGAIN\n",
    "    if base_url != 'https://morvanzhou.github.io/':\n",
    "        restricted_crawl = True\n",
    "    else:\n",
    "        restricted_crawl = False\n",
    "        \n",
    "    unseen = set([base_url,])\n",
    "    seen = set()\n",
    "    pool = mp.Pool(8)                       # number strongly affected\n",
    "    count, t1 = 1, time.time()\n",
    "    while len(unseen) != 0:                 # still get some url to visit\n",
    "        if restricted_crawl and len(seen) > 20:\n",
    "            break\n",
    "        print('\\nDistributed Crawling...')\n",
    "        crawl_jobs = [pool.apply_async(crawl, args=(url,)) for url in unseen]\n",
    "        htmls = [j.get() for j in crawl_jobs]                                       # request connection\n",
    "        htmls = [h for h in htmls if h is not None]     # remove None\n",
    "\n",
    "        print('\\nDistributed Parsing...')\n",
    "        parse_jobs = [pool.apply_async(parse, args=(html,)) for html in htmls]\n",
    "        results = [j.get() for j in parse_jobs]                                     # parse html\n",
    "\n",
    "        print('\\nAnalysing...')\n",
    "        seen.update(unseen)\n",
    "        unseen.clear()\n",
    "\n",
    "        for title, page_urls, url in results:\n",
    "            # print(count, title, url)\n",
    "            count += 1\n",
    "            unseen.update(page_urls - seen)\n",
    "\n",
    "    print('Total time: %.1f s' % (time.time()-t1, ))"
   ]
  },
  {
   "cell_type": "code",
   "execution_count": null,
   "metadata": {},
   "outputs": [],
   "source": []
  }
 ],
 "metadata": {
  "kernelspec": {
   "display_name": "Python 3",
   "language": "python",
   "name": "python3"
  },
  "language_info": {
   "codemirror_mode": {
    "name": "ipython",
    "version": 3
   },
   "file_extension": ".py",
   "mimetype": "text/x-python",
   "name": "python",
   "nbconvert_exporter": "python",
   "pygments_lexer": "ipython3",
   "version": "3.6.4"
  }
 },
 "nbformat": 4,
 "nbformat_minor": 2
}
