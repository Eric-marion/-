{
 "cells": [
  {
   "cell_type": "markdown",
   "metadata": {},
   "source": [
    "## Practice: download images from web\n",
    "### Download amazing pictures from [national geographic](http://www.ngchina.com.cn/animals/)"
   ]
  },
  {
   "cell_type": "code",
   "execution_count": 1,
   "metadata": {},
   "outputs": [],
   "source": [
    "from bs4 import BeautifulSoup\n",
    "import requests\n",
    "\n",
    "URL = \"http://www.nationalgeographic.com.cn/animals/\""
   ]
  },
  {
   "cell_type": "markdown",
   "metadata": {},
   "source": [
    "### find list of image holder"
   ]
  },
  {
   "cell_type": "code",
   "execution_count": 2,
   "metadata": {},
   "outputs": [],
   "source": [
    "html = requests.get(URL).text\n",
    "soup = BeautifulSoup(html,'lxml')\n",
    "img_ul = soup.find_all('ul',{\"class\":\"img_list\"})"
   ]
  },
  {
   "cell_type": "markdown",
   "metadata": {},
   "source": [
    "### create a folder for these pictures"
   ]
  },
  {
   "cell_type": "code",
   "execution_count": 3,
   "metadata": {},
   "outputs": [],
   "source": [
    "import os\n",
    "\n",
    "os.makedirs('./img/',exist_ok=True)"
   ]
  },
  {
   "cell_type": "markdown",
   "metadata": {},
   "source": [
    "### download\n",
    "#### find all picture urls and download them"
   ]
  },
  {
   "cell_type": "code",
   "execution_count": 4,
   "metadata": {},
   "outputs": [
    {
     "name": "stdout",
     "output_type": "stream",
     "text": [
      "Saved 20180612034205575.jpg\n",
      "Saved 20180611030425868.jpg\n",
      "Saved 20180605040431937.png\n",
      "Saved 20180530111226744.jpg\n",
      "Saved 20180527030628812.jpg\n",
      "Saved 20180524015744733.jpg\n"
     ]
    }
   ],
   "source": [
    "for ul in img_ul:\n",
    "    imgs = ul.find_all('img')\n",
    "    for img in imgs:\n",
    "        url = img['src']\n",
    "        r = requests.get(url, stream = True)\n",
    "        image_name = url.split('/')[-1]\n",
    "        with open('./img/%s' % image_name,'wb') as f:\n",
    "            for chunk in r.iter_content(chunk_size=128):\n",
    "                f.write(chunk)\n",
    "            print('Saved %s' % image_name)"
   ]
  },
  {
   "cell_type": "code",
   "execution_count": 5,
   "metadata": {},
   "outputs": [
    {
     "name": "stdout",
     "output_type": "stream",
     "text": [
      "[<ul class=\"img_list\">\n",
      "<li class=\"mod_w\">\n",
      "<div class=\"imgs cf\">\n",
      "<a href=\"/animals/protection/8703.html\"><img src=\"http://image.ngchina.com.cn/2018/0612/20180612034205575.jpg\"/></a>\n",
      "</div>\n",
      "</li>\n",
      "<li class=\"mod_w\">\n",
      "<div class=\"imgs cf\">\n",
      "<a href=\"/animals/facts/8700.html\"><img src=\"http://image.ngchina.com.cn/2018/0611/20180611030425868.jpg\"/></a>\n",
      "</div>\n",
      "</li>\n",
      "<li class=\"mod_w\">\n",
      "<div class=\"imgs cf\">\n",
      "<a href=\"/animals/protection/8692.html\"><img src=\"http://image.ngchina.com.cn/2018/0605/20180605040431937.png\"/></a>\n",
      "</div>\n",
      "</li>\n",
      "</ul>, <ul class=\"img_list\">\n",
      "<li class=\"mod_w\">\n",
      "<div class=\"imgs cf\">\n",
      "<a href=\"/animals/protection/8679.html\"><img src=\"http://image.ngchina.com.cn/2018/0530/20180530111226744.jpg\"/></a>\n",
      "</div>\n",
      "</li>\n",
      "<li class=\"mod_w\">\n",
      "<div class=\"imgs cf\">\n",
      "<a href=\"/animals/facts/8672.html\"><img src=\"http://image.ngchina.com.cn/2018/0527/20180527030628812.jpg\"/></a>\n",
      "</div>\n",
      "</li>\n",
      "<li class=\"mod_w\">\n",
      "<div class=\"imgs cf\">\n",
      "<a href=\"/animals/facts/8666.html\"><img src=\"http://image.ngchina.com.cn/2018/0524/20180524015744733.jpg\"/></a>\n",
      "</div>\n",
      "</li>\n",
      "</ul>]\n"
     ]
    }
   ],
   "source": [
    "print(img_ul)"
   ]
  },
  {
   "cell_type": "code",
   "execution_count": null,
   "metadata": {},
   "outputs": [],
   "source": []
  }
 ],
 "metadata": {
  "kernelspec": {
   "display_name": "Python 3",
   "language": "python",
   "name": "python3"
  },
  "language_info": {
   "codemirror_mode": {
    "name": "ipython",
    "version": 3
   },
   "file_extension": ".py",
   "mimetype": "text/x-python",
   "name": "python",
   "nbconvert_exporter": "python",
   "pygments_lexer": "ipython3",
   "version": "3.6.4"
  }
 },
 "nbformat": 4,
 "nbformat_minor": 2
}
