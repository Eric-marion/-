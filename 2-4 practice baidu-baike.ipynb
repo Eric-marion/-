{
 "cells": [
  {
   "cell_type": "markdown",
   "metadata": {},
   "source": [
    "### Practice: scape Baidu Baike"
   ]
  },
  {
   "cell_type": "markdown",
   "metadata": {},
   "source": [
    "#### 这里我们建立一个爬虫工具爬取网页，并保存已经访问过的网站"
   ]
  },
  {
   "cell_type": "code",
   "execution_count": 1,
   "metadata": {},
   "outputs": [],
   "source": [
    "from bs4 import BeautifulSoup\n",
    "from urllib.request import urlopen\n",
    "import re\n",
    "import random\n",
    "\n",
    "base_url = \"https://baike.baidu.com\"\n",
    "his = [\"/item/%E7%BD%91%E7%BB%9C%E7%88%AC%E8%99%AB/5162711\"]\n"
   ]
  },
  {
   "cell_type": "markdown",
   "metadata": {},
   "source": [
    "#### 选择在“his\"中最后一个 次url打印出来"
   ]
  },
  {
   "cell_type": "code",
   "execution_count": null,
   "metadata": {},
   "outputs": [],
   "source": []
  },
  {
   "cell_type": "code",
   "execution_count": 2,
   "metadata": {},
   "outputs": [
    {
     "name": "stdout",
     "output_type": "stream",
     "text": [
      "网络爬虫   url:   /item/%E7%BD%91%E7%BB%9C%E7%88%AC%E8%99%AB/5162711\n"
     ]
    }
   ],
   "source": [
    "url = base_url + his[-1]\n",
    "\n",
    "html = urlopen(url).read().decode('utf-8')\n",
    "soup = BeautifulSoup(html, features='lxml')\n",
    "print(soup.find('h1').get_text(),'  url:  ',his[-1])"
   ]
  },
  {
   "cell_type": "markdown",
   "metadata": {},
   "source": [
    "#### 找到baidu baike的所有子链接，随机选择一个次链接并将其存储在his中，如果找不到有效的子链接，弹出his中的最后一个网址"
   ]
  },
  {
   "cell_type": "code",
   "execution_count": 3,
   "metadata": {},
   "outputs": [
    {
     "name": "stdout",
     "output_type": "stream",
     "text": [
      "['/item/%E7%BD%91%E7%BB%9C%E7%88%AC%E8%99%AB/5162711', '/item/%E4%B8%87%E7%BB%B4%E7%BD%91']\n"
     ]
    }
   ],
   "source": [
    "# find valid urls\n",
    "sub_urls = soup.find_all(\"a\", {\"target\":\"_blank\", \"href\":re.compile(\"/item/(%.{2})+$\")})\n",
    "\n",
    "if len(sub_urls) !=0:\n",
    "    his.append(random.sample(sub_urls, 1)[0]['href'])\n",
    "else:\n",
    "    # no valid sub-link found\n",
    "    his.pop()\n",
    "print(his)"
   ]
  },
  {
   "cell_type": "markdown",
   "metadata": {},
   "source": [
    "#### 把所有东西放一起，随机运行20次，看以什么结束"
   ]
  },
  {
   "cell_type": "code",
   "execution_count": 4,
   "metadata": {},
   "outputs": [
    {
     "name": "stdout",
     "output_type": "stream",
     "text": [
      "0 网络爬虫   url:  /item/%E7%BD%91%E7%BB%9C%E7%88%AC%E8%99%AB/5162711\n",
      "1 矩阵   url:  /item/%E7%9F%A9%E9%98%B5\n",
      "2 幻方   url:  /item/%E5%B9%BB%E6%96%B9\n",
      "3 构造法   url:  /item/%E6%9E%84%E9%80%A0%E6%B3%95\n",
      "4 构造性数学   url:  /item/%E6%9E%84%E9%80%A0%E6%80%A7%E6%95%B0%E5%AD%A6\n",
      "5 克罗内克   url:  /item/%E5%85%8B%E7%BD%97%E5%86%85%E5%85%8B\n",
      "6 分析学   url:  /item/%E5%88%86%E6%9E%90%E5%AD%A6\n",
      "7 离散化   url:  /item/%E7%A6%BB%E6%95%A3%E5%8C%96\n",
      "8 标程   url:  /item/%E6%A0%87%E7%A8%8B\n",
      "9 离散化   url:  /item/%E7%A6%BB%E6%95%A3%E5%8C%96\n",
      "10 逆序   url:  /item/%E9%80%86%E5%BA%8F\n",
      "11 奇数   url:  /item/%E5%A5%87%E6%95%B0\n",
      "12 偶数   url:  /item/%E5%81%B6%E6%95%B0\n",
      "13 合数   url:  /item/%E5%90%88%E6%95%B0\n",
      "14 阳性合数   url:  /item/%E9%98%B3%E6%80%A7%E5%90%88%E6%95%B0\n",
      "15 合数   url:  /item/%E5%90%88%E6%95%B0\n",
      "16 阳性合数   url:  /item/%E9%98%B3%E6%80%A7%E5%90%88%E6%95%B0\n",
      "17 合数   url:  /item/%E5%90%88%E6%95%B0\n",
      "18 阳性合数   url:  /item/%E9%98%B3%E6%80%A7%E5%90%88%E6%95%B0\n",
      "19 合数   url:  /item/%E5%90%88%E6%95%B0\n"
     ]
    }
   ],
   "source": [
    "his = [\"/item/%E7%BD%91%E7%BB%9C%E7%88%AC%E8%99%AB/5162711\"]\n",
    "\n",
    "for i in range(20):\n",
    "    url = base_url + his[-1]\n",
    "    \n",
    "    html = urlopen(url).read().decode('utf-8')\n",
    "    soup = BeautifulSoup(html, features='lxml')\n",
    "    print(i, soup.find('h1').get_text(),'  url: ',his[-1])\n",
    "    \n",
    "    # find valid urls\n",
    "    sub_urls = soup.find_all(\"a\",{\"target\":\"_blank\", \"href\":re.compile(\"/item/(%.{2})+$\")})\n",
    "\n",
    "    if len(sub_urls) !=0:\n",
    "        his.append(random.sample(sub_urls, 1)[0]['href'])\n",
    "    else:\n",
    "        # no valid sub link found\n",
    "        his.pop()"
   ]
  },
  {
   "cell_type": "code",
   "execution_count": null,
   "metadata": {},
   "outputs": [],
   "source": []
  }
 ],
 "metadata": {
  "kernelspec": {
   "display_name": "Python 3",
   "language": "python",
   "name": "python3"
  },
  "language_info": {
   "codemirror_mode": {
    "name": "ipython",
    "version": 3
   },
   "file_extension": ".py",
   "mimetype": "text/x-python",
   "name": "python",
   "nbconvert_exporter": "python",
   "pygments_lexer": "ipython3",
   "version": "3.6.4"
  }
 },
 "nbformat": 4,
 "nbformat_minor": 2
}
