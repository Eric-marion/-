{
 "cells": [
  {
   "cell_type": "markdown",
   "metadata": {},
   "source": [
    "### Practice: scape Baidu Baike"
   ]
  },
  {
   "cell_type": "markdown",
   "metadata": {},
   "source": [
    "#### 这里我们建立一个爬虫工具爬取网页，并保存已经访问过的网站"
   ]
  },
  {
   "cell_type": "code",
   "execution_count": 1,
   "metadata": {},
   "outputs": [],
   "source": [
    "from bs4 import BeautifulSoup\n",
    "from urllib.request import urlopen\n",
    "import re\n",
    "import random\n",
    "\n",
    "base_url = \"https://baike.baidu.com\"\n",
    "his = [\"/item/%E7%BD%91%E7%BB%9C%E7%88%AC%E8%99%AB/5162711\"]\n"
   ]
  },
  {
   "cell_type": "markdown",
   "metadata": {},
   "source": [
    "#### 选择在“his\"中最后一个 次url打印出来"
   ]
  },
  {
   "cell_type": "code",
   "execution_count": null,
   "metadata": {},
   "outputs": [],
   "source": []
  },
  {
   "cell_type": "code",
   "execution_count": 3,
   "metadata": {},
   "outputs": [
    {
     "name": "stdout",
     "output_type": "stream",
     "text": [
      "网络爬虫   url:   /item/%E7%BD%91%E7%BB%9C%E7%88%AC%E8%99%AB/5162711\n"
     ]
    }
   ],
   "source": [
    "url = base_url + his[-1]\n",
    "\n",
    "html = urlopen(url).read().decode('utf-8')\n",
    "soup = BeautifulSoup(html, features='lxml')\n",
    "print(soup.find('h1').get_text(),'  url:  ',his[-1])"
   ]
  },
  {
   "cell_type": "markdown",
   "metadata": {},
   "source": [
    "#### 找到baidu baike的所有子链接，随机选择一个次链接并将其存储在his中，如果找不到有效的子链接，弹出his中的最后一个网址"
   ]
  },
  {
   "cell_type": "code",
   "execution_count": 4,
   "metadata": {},
   "outputs": [
    {
     "name": "stdout",
     "output_type": "stream",
     "text": [
      "['/item/%E7%BD%91%E7%BB%9C%E7%88%AC%E8%99%AB/5162711', '/item/%E7%A6%BB%E7%BA%BF%E8%A7%82%E7%9C%8B']\n"
     ]
    }
   ],
   "source": [
    "# find valid urls\n",
    "sub_urls = soup.find_all(\"a\", {\"target\":\"_blank\", \"href\":re.compile(\"/item/(%.{2})+$\")})\n",
    "\n",
    "if len(sub_urls) !=0:\n",
    "    his.append(random.sample(sub_urls, 1)[0]['href'])\n",
    "else:\n",
    "    # no valid sub-link found\n",
    "    his.pop()\n",
    "print(his)"
   ]
  },
  {
   "cell_type": "markdown",
   "metadata": {},
   "source": [
    "#### 把所有东西放一起，随机运行20次，看以什么结束"
   ]
  },
  {
   "cell_type": "code",
   "execution_count": 7,
   "metadata": {},
   "outputs": [
    {
     "name": "stdout",
     "output_type": "stream",
     "text": [
      "0 网络爬虫   url:  /item/%E7%BD%91%E7%BB%9C%E7%88%AC%E8%99%AB/5162711\n",
      "1 文本检索   url:  /item/%E6%96%87%E6%9C%AC%E6%A3%80%E7%B4%A2\n",
      "2 文本检索   url:  /item/%E6%96%87%E6%9C%AC%E6%A3%80%E7%B4%A2\n",
      "3 网络地址   url:  /item/%E7%BD%91%E7%BB%9C%E5%9C%B0%E5%9D%80\n",
      "4 地址空间   url:  /item/%E5%9C%B0%E5%9D%80%E7%A9%BA%E9%97%B4\n",
      "5 偏移量   url:  /item/%E5%81%8F%E7%A7%BB%E9%87%8F\n",
      "6 通用寄存器   url:  /item/%E9%80%9A%E7%94%A8%E5%AF%84%E5%AD%98%E5%99%A8\n",
      "7 计数器   url:  /item/%E8%AE%A1%E6%95%B0%E5%99%A8\n",
      "8 可逆计数器   url:  /item/%E5%8F%AF%E9%80%86%E8%AE%A1%E6%95%B0%E5%99%A8\n",
      "9 计数器   url:  /item/%E8%AE%A1%E6%95%B0%E5%99%A8\n",
      "10 逻辑电路   url:  /item/%E9%80%BB%E8%BE%91%E7%94%B5%E8%B7%AF\n",
      "11 基极   url:  /item/%E5%9F%BA%E6%9E%81\n",
      "12 电流   url:  /item/%E7%94%B5%E6%B5%81\n",
      "13 带电体   url:  /item/%E5%B8%A6%E7%94%B5%E4%BD%93\n",
      "14 静电感应   url:  /item/%E9%9D%99%E7%94%B5%E6%84%9F%E5%BA%94\n",
      "15 电荷   url:  /item/%E7%94%B5%E8%8D%B7\n",
      "16 麻痹   url:  /item/%E9%BA%BB%E7%97%B9\n",
      "17 组织   url:  /item/%E7%BB%84%E7%BB%87\n",
      "18 陈葵   url:  /item/%E9%99%88%E8%91%B5\n",
      "19 百度百科：多义词   url:  /item/%E7%99%BE%E5%BA%A6%E7%99%BE%E7%A7%91%EF%BC%9A%E5%A4%9A%E4%B9%89%E8%AF%8D\n"
     ]
    }
   ],
   "source": [
    "his = [\"/item/%E7%BD%91%E7%BB%9C%E7%88%AC%E8%99%AB/5162711\"]\n",
    "\n",
    "for i in range(20):\n",
    "    url = base_url + his[-1]\n",
    "    \n",
    "    html = urlopen(url).read().decode('utf-8')\n",
    "    soup = BeautifulSoup(html, features='lxml')\n",
    "    print(i, soup.find('h1').get_text(),'  url: ',his[-1])\n",
    "    \n",
    "    # find valid urls\n",
    "    sub_urls = soup.find_all(\"a\",{\"target\":\"_blank\", \"href\":re.compile(\"/item/(%.{2})+$\")})\n",
    "\n",
    "    if len(sub_urls) !=0:\n",
    "        his.append(random.sample(sub_urls, 1)[0]['href'])\n",
    "    else:\n",
    "        # no valid sub link found\n",
    "        his.pop()"
   ]
  },
  {
   "cell_type": "code",
   "execution_count": null,
   "metadata": {},
   "outputs": [],
   "source": []
  }
 ],
 "metadata": {
  "kernelspec": {
   "display_name": "Python 3",
   "language": "python",
   "name": "python3"
  },
  "language_info": {
   "codemirror_mode": {
    "name": "ipython",
    "version": 3
   },
   "file_extension": ".py",
   "mimetype": "text/x-python",
   "name": "python",
   "nbconvert_exporter": "python",
   "pygments_lexer": "ipython3",
   "version": "3.6.4"
  }
 },
 "nbformat": 4,
 "nbformat_minor": 2
}
